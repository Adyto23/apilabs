{
 "cells": [
  {
   "cell_type": "code",
   "execution_count": 7,
   "id": "4cb843ce",
   "metadata": {},
   "outputs": [],
   "source": [
    "import spotipy as sp\n",
    "from spotipy.oauth2 import SpotifyClientCredentials\n",
    "from random import randint\n",
    "import random\n",
    "from time import sleep\n",
    "from pandas import json_normalize\n",
    "import pandas as pd\n",
    "import pickle\n",
    "import ast\n",
    "from sklearn.preprocessing import StandardScaler"
   ]
  },
  {
   "cell_type": "code",
   "execution_count": 8,
   "id": "238746db",
   "metadata": {},
   "outputs": [],
   "source": [
    "secrets_file = open(\"secret.txt\",\"r\")\n",
    "\n",
    "string = secrets_file.read()\n",
    "\n",
    "secrets_dict={}\n",
    "for line in string.split('\\n'):\n",
    "    if len(line) > 0:\n",
    "        secrets_dict[line.split(':')[0]]=line.split(':')[1].strip()\n",
    "\n",
    "import spotipy\n",
    "from spotipy.oauth2 import SpotifyClientCredentials\n",
    "\n",
    "#Initialize SpotiPy with user credentials\n",
    "sp = spotipy.Spotify(auth_manager=SpotifyClientCredentials(client_id=secrets_dict['CDI'],\n",
    "                                                           client_secret=secrets_dict['Secret']))"
   ]
  },
  {
   "cell_type": "code",
   "execution_count": 9,
   "id": "3972f2a8",
   "metadata": {},
   "outputs": [],
   "source": [
    "forrecomender = pd.read_csv('forrecomender.csv')\n"
   ]
  },
  {
   "cell_type": "code",
   "execution_count": 10,
   "id": "9b0e4d54",
   "metadata": {},
   "outputs": [],
   "source": [
    "##Load kmeans model\n",
    "kmeans = pickle.load(open('kmeans_model.sav', 'rb'))\n",
    "##Load Scaler\n",
    "scaler = pickle.load(open('standard_scaler.sav', 'rb'))"
   ]
  },
  {
   "cell_type": "code",
   "execution_count": 11,
   "id": "30af0096",
   "metadata": {},
   "outputs": [
    {
     "data": {
      "text/plain": [
       "KMeans(n_clusters=11, random_state=1234)"
      ]
     },
     "execution_count": 11,
     "metadata": {},
     "output_type": "execute_result"
    }
   ],
   "source": [
    "kmeans"
   ]
  },
  {
   "cell_type": "code",
   "execution_count": 12,
   "id": "e2def7e7",
   "metadata": {},
   "outputs": [],
   "source": [
    "songs = pd.read_csv(\"100songs.csv\")\n"
   ]
  },
  {
   "cell_type": "code",
   "execution_count": 13,
   "id": "9174adb4",
   "metadata": {},
   "outputs": [
    {
     "data": {
      "text/html": [
       "<div>\n",
       "<style scoped>\n",
       "    .dataframe tbody tr th:only-of-type {\n",
       "        vertical-align: middle;\n",
       "    }\n",
       "\n",
       "    .dataframe tbody tr th {\n",
       "        vertical-align: top;\n",
       "    }\n",
       "\n",
       "    .dataframe thead th {\n",
       "        text-align: right;\n",
       "    }\n",
       "</style>\n",
       "<table border=\"1\" class=\"dataframe\">\n",
       "  <thead>\n",
       "    <tr style=\"text-align: right;\">\n",
       "      <th></th>\n",
       "      <th>Unnamed: 0</th>\n",
       "      <th>artist_name</th>\n",
       "      <th>title</th>\n",
       "    </tr>\n",
       "  </thead>\n",
       "  <tbody>\n",
       "    <tr>\n",
       "      <th>0</th>\n",
       "      <td>0</td>\n",
       "      <td>Miley Cyrus</td>\n",
       "      <td>Flowers</td>\n",
       "    </tr>\n",
       "    <tr>\n",
       "      <th>1</th>\n",
       "      <td>1</td>\n",
       "      <td>Morgan Wallen</td>\n",
       "      <td>Last Night</td>\n",
       "    </tr>\n",
       "    <tr>\n",
       "      <th>2</th>\n",
       "      <td>2</td>\n",
       "      <td>JISOO</td>\n",
       "      <td>FLOWER</td>\n",
       "    </tr>\n",
       "    <tr>\n",
       "      <th>3</th>\n",
       "      <td>3</td>\n",
       "      <td>Luke Combs</td>\n",
       "      <td>Fast Car</td>\n",
       "    </tr>\n",
       "    <tr>\n",
       "      <th>4</th>\n",
       "      <td>4</td>\n",
       "      <td>Russ</td>\n",
       "      <td>NASTY (Extended Version)</td>\n",
       "    </tr>\n",
       "    <tr>\n",
       "      <th>...</th>\n",
       "      <td>...</td>\n",
       "      <td>...</td>\n",
       "      <td>...</td>\n",
       "    </tr>\n",
       "    <tr>\n",
       "      <th>95</th>\n",
       "      <td>95</td>\n",
       "      <td>Brandon Lake</td>\n",
       "      <td>Gratitude</td>\n",
       "    </tr>\n",
       "    <tr>\n",
       "      <th>96</th>\n",
       "      <td>96</td>\n",
       "      <td>Katy Nichole &amp; Big Daddy Weave</td>\n",
       "      <td>God Is In This Story</td>\n",
       "    </tr>\n",
       "    <tr>\n",
       "      <th>97</th>\n",
       "      <td>97</td>\n",
       "      <td>Lady Gaga</td>\n",
       "      <td>Bloody Mary</td>\n",
       "    </tr>\n",
       "    <tr>\n",
       "      <th>98</th>\n",
       "      <td>98</td>\n",
       "      <td>Fastball</td>\n",
       "      <td>Out of My Head</td>\n",
       "    </tr>\n",
       "    <tr>\n",
       "      <th>99</th>\n",
       "      <td>99</td>\n",
       "      <td>Lauren Daigle</td>\n",
       "      <td>Waiting</td>\n",
       "    </tr>\n",
       "  </tbody>\n",
       "</table>\n",
       "<p>100 rows × 3 columns</p>\n",
       "</div>"
      ],
      "text/plain": [
       "    Unnamed: 0                     artist_name                     title\n",
       "0            0                     Miley Cyrus                   Flowers\n",
       "1            1                   Morgan Wallen                Last Night\n",
       "2            2                           JISOO                    FLOWER\n",
       "3            3                      Luke Combs                  Fast Car\n",
       "4            4                            Russ  NASTY (Extended Version)\n",
       "..         ...                             ...                       ...\n",
       "95          95                    Brandon Lake                 Gratitude\n",
       "96          96  Katy Nichole & Big Daddy Weave      God Is In This Story\n",
       "97          97                       Lady Gaga               Bloody Mary\n",
       "98          98                        Fastball            Out of My Head\n",
       "99          99                   Lauren Daigle                   Waiting\n",
       "\n",
       "[100 rows x 3 columns]"
      ]
     },
     "execution_count": 13,
     "metadata": {},
     "output_type": "execute_result"
    }
   ],
   "source": [
    "songs"
   ]
  },
  {
   "cell_type": "code",
   "execution_count": 73,
   "id": "df955329",
   "metadata": {},
   "outputs": [],
   "source": [
    "\n",
    " \n",
    "def hotsong(hotcandidate):\n",
    "    \n",
    "    x=0\n",
    "    test=songs.sample(n = 1)\n",
    "    name= test[\"artist_name\"].to_string(index=False, header=False) \n",
    "    nametitle= \" \" + \"-\" + \" \" + test[\"title\"].to_string(index=False, header=False) \n",
    "        \n",
    "    for i in songs[\"title\"]:\n",
    "            if i==hotcandidate:\n",
    "                test = songs[songs['title'] != hotcandidate]\n",
    "                test=songs.sample(n = 1)\n",
    "                test= name + nametitle\n",
    "                answer=\"Damn thats hot!!! You might like this song:  \\n \" + test\n",
    "                x=0\n",
    "                break\n",
    "            else:\n",
    "                x+=1\n",
    "\n",
    "    if x==100:\n",
    "        ## asking for a sogn details ffrom spotify\n",
    "        query=hotcandidate\n",
    "        results = sp.search(q=query, type=\"track\", limit=1, offset=0)\n",
    "        ##getting uri\n",
    "        boom=results[\"tracks\"][\"items\"][0][\"id\"]\n",
    "        ##assigning to dataframe \n",
    "        dick=sp.audio_features(boom)[0]\n",
    "        dick=pd.DataFrame([dick])\n",
    "        ## removing all unwanted columns \n",
    "        dick.drop(dick.columns.difference(['danceability', 'energy','key','loudness','mode','speechiness','acousticness','instrumentalness','liveness','valence','tempo','time_signature']), axis = 1, inplace = True)\n",
    "        ##transform in order to corr with dataframe\n",
    "        audio_feat_df_corr_prep = scaler.transform(dick)\n",
    "        ## predict kmean of the song \n",
    "        clusters1 = kmeans.predict(audio_feat_df_corr_prep)\n",
    "        ## ask for the one sample track that can be given \n",
    "        recomendedtrax=forrecomender[forrecomender['cluster'] == clusters1[0]].reset_index()\n",
    "        test=recomendedtrax.sample()\n",
    "        name= test[\"artists\"].to_string(index=False, header=False) \n",
    "        nametitle= \" \" + \"-\" + \" \" + test[\"title\"].to_string(index=False, header=False)\n",
    "        test= name + nametitle\n",
    "        answer=\"Your song was not found, but you might like:  \\n \" + test\n",
    "\n",
    "    return answer\n",
    "    \n",
    "###works as a function , returns from spotify an object , still need to figure\n",
    "##out how to work this another way but solution is valid "
   ]
  },
  {
   "cell_type": "code",
   "execution_count": 78,
   "id": "ab3ad7ac",
   "metadata": {},
   "outputs": [
    {
     "name": "stdout",
     "output_type": "stream",
     "text": [
      "Please enter a song and we will check if its hot:sun always\n"
     ]
    },
    {
     "data": {
      "text/plain": [
       "'Your song was not found, but you might like:  \\n [\"Guns N\\' Roses\"] - [\\'Mr. Brownstone\\']'"
      ]
     },
     "execution_count": 78,
     "metadata": {},
     "output_type": "execute_result"
    }
   ],
   "source": [
    "hotcandidate = input(\"Please enter a song and we will check if its hot:\")\n",
    "hotsong(hotcandidate)\n",
    "\n",
    "##final results "
   ]
  },
  {
   "cell_type": "code",
   "execution_count": null,
   "id": "a50826b3",
   "metadata": {},
   "outputs": [],
   "source": []
  }
 ],
 "metadata": {
  "kernelspec": {
   "display_name": "Python 3 (ipykernel)",
   "language": "python",
   "name": "python3"
  },
  "language_info": {
   "codemirror_mode": {
    "name": "ipython",
    "version": 3
   },
   "file_extension": ".py",
   "mimetype": "text/x-python",
   "name": "python",
   "nbconvert_exporter": "python",
   "pygments_lexer": "ipython3",
   "version": "3.9.13"
  }
 },
 "nbformat": 4,
 "nbformat_minor": 5
}
