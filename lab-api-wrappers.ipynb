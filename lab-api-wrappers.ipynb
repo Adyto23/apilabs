{
 "cells": [
  {
   "cell_type": "markdown",
   "id": "6db53a96",
   "metadata": {},
   "source": [
    "# Lab | API wrappers - Create your collection of songs & audio features (GNOD - part 3)"
   ]
  },
  {
   "cell_type": "code",
   "execution_count": 1,
   "id": "9bf66d73",
   "metadata": {},
   "outputs": [],
   "source": [
    "import spotipy\n",
    "\n",
    "from spotipy.oauth2 import SpotifyClientCredentials\n",
    "\n",
    "#Initialize SpotiPy with user credentials\n",
    "#sp = spotipy.Spotify(auth_manager=SpotifyClientCredentials(client_id='<your client id here>',\n",
    "#                                                           client_secret='<your client secret here>'))"
   ]
  },
  {
   "cell_type": "code",
   "execution_count": 2,
   "id": "c7977fc1",
   "metadata": {},
   "outputs": [],
   "source": [
    "secrets_file = open(\"secret.txt\",\"r\")"
   ]
  },
  {
   "cell_type": "code",
   "execution_count": 3,
   "id": "1d03d162",
   "metadata": {},
   "outputs": [],
   "source": [
    "string = secrets_file.read()"
   ]
  },
  {
   "cell_type": "code",
   "execution_count": 4,
   "id": "75978bdc",
   "metadata": {},
   "outputs": [],
   "source": [
    "secrets_dict={}\n",
    "for line in string.split('\\n'):\n",
    "    if len(line) > 0:\n",
    "        secrets_dict[line.split(':')[0]]=line.split(':')[1].strip()"
   ]
  },
  {
   "cell_type": "code",
   "execution_count": 5,
   "id": "0be24e94",
   "metadata": {},
   "outputs": [],
   "source": [
    "import spotipy\n",
    "from spotipy.oauth2 import SpotifyClientCredentials\n",
    "\n",
    "#Initialize SpotiPy with user credentials\n",
    "sp = spotipy.Spotify(auth_manager=SpotifyClientCredentials(client_id=secrets_dict['CDI'],\n",
    "                                                           client_secret=secrets_dict['Secret']))"
   ]
  },
  {
   "cell_type": "code",
   "execution_count": 6,
   "id": "41fa9fdf",
   "metadata": {},
   "outputs": [],
   "source": [
    "# we will use our 'first paid music' playlist as an example:\n",
    "playlist = sp.user_playlist_tracks(\"spotify\", \"32lPilIPcRVIDxlMdqEsCQ\")"
   ]
  },
  {
   "cell_type": "code",
   "execution_count": 7,
   "id": "79b6f119",
   "metadata": {},
   "outputs": [
    {
     "data": {
      "text/plain": [
       "dict_keys(['href', 'items', 'limit', 'next', 'offset', 'previous', 'total'])"
      ]
     },
     "execution_count": 7,
     "metadata": {},
     "output_type": "execute_result"
    }
   ],
   "source": [
    "# Let's look at items and total:\n",
    "playlist.keys() "
   ]
  },
  {
   "cell_type": "code",
   "execution_count": 8,
   "id": "2d88cf19",
   "metadata": {},
   "outputs": [
    {
     "data": {
      "text/plain": [
       "1212"
      ]
     },
     "execution_count": 8,
     "metadata": {},
     "output_type": "execute_result"
    }
   ],
   "source": [
    "playlist[\"total\"] "
   ]
  },
  {
   "cell_type": "code",
   "execution_count": 9,
   "id": "183f0b20",
   "metadata": {},
   "outputs": [],
   "source": [
    "#first we need to get a list of individual tracks from the playlist\n",
    "def get_name_artist_from_playlist_item(playlist_item):\n",
    "    return get_name_artists_from_track(playlist_item['track'])"
   ]
  },
  {
   "cell_type": "code",
   "execution_count": 10,
   "id": "f9dd1ba0",
   "metadata": {},
   "outputs": [],
   "source": [
    "def get_name_artists_from_playlist(input_playlist):\n",
    "    return list(map(get_name_artist_from_playlist_item,input_playlist[\"items\"]))"
   ]
  },
  {
   "cell_type": "code",
   "execution_count": 11,
   "id": "6fc6788e",
   "metadata": {},
   "outputs": [],
   "source": [
    "def get_name_artists_from_playlist(input_playlist):\n",
    "    return flatten(list(map(get_name_artist_from_playlist_item,input_playlist[\"items\"])))"
   ]
  },
  {
   "cell_type": "markdown",
   "id": "b34e9a69",
   "metadata": {},
   "source": [
    "# Function to extract all songs from a playlist\n"
   ]
  },
  {
   "cell_type": "code",
   "execution_count": 12,
   "id": "2ca673af",
   "metadata": {},
   "outputs": [],
   "source": [
    "from random import randint\n",
    "from time import sleep\n",
    "\n",
    "def get_playlist_tracks(playlist_id):\n",
    "    results = sp.user_playlist_tracks(\"spotify\",playlist_id)\n",
    "    tracks = results['items']\n",
    "    while results['next']!=None:\n",
    "        results = sp.next(results)\n",
    "        tracks = tracks + results['items']\n",
    "        sleep(randint(1,3))\n",
    "    return tracks"
   ]
  },
  {
   "cell_type": "code",
   "execution_count": 13,
   "id": "cd7e78cb",
   "metadata": {},
   "outputs": [],
   "source": [
    "def get_playlist_tracks(playlist_id):\n",
    "    results = sp.playlist_tracks(playlist_id)\n",
    "    tracks = results['items']\n",
    "    while results['next']:\n",
    "        results = sp.next(results)\n",
    "        tracks.extend(results['items'])\n",
    "    return tracks"
   ]
  },
  {
   "cell_type": "code",
   "execution_count": null,
   "id": "0bdabf39",
   "metadata": {},
   "outputs": [],
   "source": [
    "first_playlist=get_playlist_tracks(\"32lPilIPcRVIDxlMdqEsCQ\")\n",
    "## importing list "
   ]
  },
  {
   "cell_type": "code",
   "execution_count": null,
   "id": "a362692c",
   "metadata": {},
   "outputs": [],
   "source": [
    "len(first_playlist) \n",
    "\n",
    "## checking list length "
   ]
  },
  {
   "cell_type": "code",
   "execution_count": null,
   "id": "59ee05f6",
   "metadata": {},
   "outputs": [],
   "source": [
    "first_playlist[33]['track']"
   ]
  },
  {
   "cell_type": "code",
   "execution_count": null,
   "id": "245b852c",
   "metadata": {},
   "outputs": [],
   "source": [
    "## checking elements as requested \n",
    "\n",
    "playlist[\"items\"][33][\"track\"][\"id\"]"
   ]
  },
  {
   "cell_type": "code",
   "execution_count": null,
   "id": "c6a65fd6",
   "metadata": {},
   "outputs": [],
   "source": [
    "len(playlist[\"items\"][33]['track']['artists'][0][\"name\"])"
   ]
  },
  {
   "cell_type": "code",
   "execution_count": null,
   "id": "e30ba87e",
   "metadata": {},
   "outputs": [],
   "source": [
    "playlist[\"items\"][33]['track']['artists'][0]"
   ]
  },
  {
   "cell_type": "code",
   "execution_count": null,
   "id": "103aadd5",
   "metadata": {},
   "outputs": [],
   "source": [
    "def getSongInfo(playlist):\n",
    "    all_info = []\n",
    "    i=0\n",
    "\n",
    "    for i in range(len(playlist)):\n",
    "        song_dict = {}\n",
    "        songtitle = []\n",
    "        songuri = []\n",
    "        artists = []\n",
    "        audio_features = []\n",
    "        songtitle.append(playlist[i]['track'][\"name\"]) \n",
    "        songuri.append(playlist[i]['track'][\"id\"]) \n",
    "        artists.append(playlist[i]['track']['artists'][0][\"name\"]) \n",
    "        audio_features.append(sp.audio_features(playlist[i]['track'][\"id\"])) \n",
    "\n",
    "        song_dict['title'] = songtitle\n",
    "        song_dict['artists'] = artists\n",
    "        song_dict['uri'] = songuri\n",
    "        song_dict[\"audio_features\"]=audio_features\n",
    "        all_info.append(song_dict)\n",
    "        \n",
    "    return all_info"
   ]
  },
  {
   "cell_type": "code",
   "execution_count": null,
   "id": "9e380f3b",
   "metadata": {},
   "outputs": [],
   "source": [
    "playlist1=getSongInfo(first_playlist)\n",
    "## extract data from dic"
   ]
  },
  {
   "cell_type": "code",
   "execution_count": null,
   "id": "6c3761f9",
   "metadata": {},
   "outputs": [],
   "source": [
    "playlist1"
   ]
  },
  {
   "cell_type": "code",
   "execution_count": null,
   "id": "f9cd6379",
   "metadata": {},
   "outputs": [],
   "source": [
    "import pandas as pd\n",
    "df = pd.DataFrame(playlist1)\n",
    "\n",
    "## create first df"
   ]
  },
  {
   "cell_type": "code",
   "execution_count": null,
   "id": "80e2bce1",
   "metadata": {},
   "outputs": [],
   "source": [
    "df"
   ]
  },
  {
   "cell_type": "code",
   "execution_count": null,
   "id": "7b9a4111",
   "metadata": {},
   "outputs": [],
   "source": [
    "df1=pd.json_normalize(df[\"audio_features\"], 0)\n",
    "\n",
    "### normalized to all raws level 0 "
   ]
  },
  {
   "cell_type": "code",
   "execution_count": null,
   "id": "b0e306cf",
   "metadata": {},
   "outputs": [],
   "source": [
    "df1=df1.drop(columns=['uri', 'id','type'])\n",
    "## not needed "
   ]
  },
  {
   "cell_type": "code",
   "execution_count": null,
   "id": "9ee71ede",
   "metadata": {},
   "outputs": [],
   "source": [
    "df=df.drop(columns=['audio_features'])\n",
    "## not needed "
   ]
  },
  {
   "cell_type": "code",
   "execution_count": null,
   "id": "2f4c0bf0",
   "metadata": {},
   "outputs": [],
   "source": [
    "lastdf= pd.concat([df, df1], axis=1)\n"
   ]
  },
  {
   "cell_type": "code",
   "execution_count": null,
   "id": "54ddab00",
   "metadata": {},
   "outputs": [],
   "source": [
    "lastdf\n",
    "\n",
    "## last concat df with removed doubles and not relevanz columns"
   ]
  },
  {
   "cell_type": "code",
   "execution_count": null,
   "id": "d946eea7",
   "metadata": {},
   "outputs": [],
   "source": [
    "lastdf.to_csv('songs_colldf.csv', index=False)\n"
   ]
  },
  {
   "cell_type": "code",
   "execution_count": null,
   "id": "830f4f3f",
   "metadata": {},
   "outputs": [],
   "source": []
  }
 ],
 "metadata": {
  "kernelspec": {
   "display_name": "Python 3 (ipykernel)",
   "language": "python",
   "name": "python3"
  },
  "language_info": {
   "codemirror_mode": {
    "name": "ipython",
    "version": 3
   },
   "file_extension": ".py",
   "mimetype": "text/x-python",
   "name": "python",
   "nbconvert_exporter": "python",
   "pygments_lexer": "ipython3",
   "version": "3.9.13"
  }
 },
 "nbformat": 4,
 "nbformat_minor": 5
}
