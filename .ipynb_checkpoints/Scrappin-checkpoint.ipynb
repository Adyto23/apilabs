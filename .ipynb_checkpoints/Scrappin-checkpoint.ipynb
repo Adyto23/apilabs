{
 "cells": [
  {
   "cell_type": "code",
   "execution_count": 1,
   "id": "90f48258",
   "metadata": {},
   "outputs": [],
   "source": [
    "from bs4 import BeautifulSoup\n",
    "import requests\n",
    "import pandas as pd\n"
   ]
  },
  {
   "cell_type": "code",
   "execution_count": 2,
   "id": "a9a31c65",
   "metadata": {},
   "outputs": [],
   "source": [
    "# 2. find url and store it in a variable\n",
    "url = \"https://www.popvortex.com/music/charts/top-100-songs.php\""
   ]
  },
  {
   "cell_type": "code",
   "execution_count": 3,
   "id": "49f48f64",
   "metadata": {},
   "outputs": [],
   "source": [
    "response = requests.get(url)\n"
   ]
  },
  {
   "cell_type": "code",
   "execution_count": 4,
   "id": "90d4c01d",
   "metadata": {},
   "outputs": [
    {
     "data": {
      "text/plain": [
       "200"
      ]
     },
     "execution_count": 4,
     "metadata": {},
     "output_type": "execute_result"
    }
   ],
   "source": [
    "response.status_code # 200 status code means OK!"
   ]
  },
  {
   "cell_type": "code",
   "execution_count": 5,
   "id": "fef602f2",
   "metadata": {},
   "outputs": [],
   "source": [
    "soup = BeautifulSoup(response.content, \"html.parser\")"
   ]
  },
  {
   "cell_type": "code",
   "execution_count": 6,
   "id": "90c3df81",
   "metadata": {},
   "outputs": [
    {
     "data": {
      "text/plain": [
       "[<cite class=\"title\">Last Night</cite>]"
      ]
     },
     "execution_count": 6,
     "metadata": {},
     "output_type": "execute_result"
    }
   ],
   "source": [
    "##soup.select(\"#chart-position-1 > div.chart-content.col-xs-12.col-sm-8 > p\")\n",
    "soup.select(\"#chart-position-1 > div.chart-content.col-xs-12.col-sm-8 > p > cite\")\n",
    "#chart-position-1 > div.chart-content.col-xs-12.col-sm-8 > p\n",
    "#chart-position-1 > div.chart-content.col-xs-12.col-sm-8 > p > cite\n",
    "## scrapping of one artist "
   ]
  },
  {
   "cell_type": "code",
   "execution_count": 7,
   "id": "ebe3bbe6",
   "metadata": {
    "scrolled": false
   },
   "outputs": [
    {
     "data": {
      "text/plain": [
       "[<p class=\"title-artist\"><cite class=\"title\">Last Night</cite><em class=\"artist\">Morgan Wallen</em></p>,\n",
       " <p class=\"title-artist\"><cite class=\"title\">Flowers</cite><em class=\"artist\">Miley Cyrus</em></p>,\n",
       " <p class=\"title-artist\"><cite class=\"title\">Fast Car</cite><em class=\"artist\">Luke Combs</em></p>,\n",
       " <p class=\"title-artist\"><cite class=\"title\">Like Crazy (Deep House Remix)</cite><em class=\"artist\">Jimin</em></p>,\n",
       " <p class=\"title-artist\"><cite class=\"title\">Like Crazy (UK Garage Remix)</cite><em class=\"artist\">Jimin</em></p>,\n",
       " <p class=\"title-artist\"><cite class=\"title\">Calm Down</cite><em class=\"artist\">Rema &amp; Selena Gomez</em></p>,\n",
       " <p class=\"title-artist\"><cite class=\"title\">Like Crazy (Instrumental)</cite><em class=\"artist\">Jimin</em></p>,\n",
       " <p class=\"title-artist\"><cite class=\"title\">Heart Like A Truck</cite><em class=\"artist\">Lainey Wilson</em></p>,\n",
       " <p class=\"title-artist\"><cite class=\"title\">Eyes Closed</cite><em class=\"artist\">Ed Sheeran</em></p>,\n",
       " <p class=\"title-artist\"><cite class=\"title\">Justice for All</cite><em class=\"artist\">Donald J. Trump &amp; J6 Prison Choir</em></p>,\n",
       " <p class=\"title-artist\"><cite class=\"title\">Like Crazy (English Version)</cite><em class=\"artist\">Jimin</em></p>,\n",
       " <p class=\"title-artist\"><cite class=\"title\">Fighting Myself</cite><em class=\"artist\">LINKIN PARK</em></p>,\n",
       " <p class=\"title-artist\"><cite class=\"title\">Like Crazy</cite><em class=\"artist\">Jimin</em></p>,\n",
       " <p class=\"title-artist\"><cite class=\"title\">You Say</cite><em class=\"artist\">Lauren Daigle</em></p>,\n",
       " <p class=\"title-artist\"><cite class=\"title\">Anti-Hero</cite><em class=\"artist\">Taylor Swift</em></p>,\n",
       " <p class=\"title-artist\"><cite class=\"title\">Thinkin’ Bout Me</cite><em class=\"artist\">Morgan Wallen</em></p>,\n",
       " <p class=\"title-artist\"><cite class=\"title\">Thought You Should Know</cite><em class=\"artist\">Morgan Wallen</em></p>,\n",
       " <p class=\"title-artist\"><cite class=\"title\">Players</cite><em class=\"artist\">Coi Leray</em></p>,\n",
       " <p class=\"title-artist\"><cite class=\"title\">Growin' Up and Gettin' Old</cite><em class=\"artist\">Luke Combs</em></p>,\n",
       " <p class=\"title-artist\"><cite class=\"title\">labour</cite><em class=\"artist\">Paris Paloma</em></p>,\n",
       " <p class=\"title-artist\"><cite class=\"title\">5 Leaf Clover</cite><em class=\"artist\">Luke Combs</em></p>,\n",
       " <p class=\"title-artist\"><cite class=\"title\">Love You Anyway</cite><em class=\"artist\">Luke Combs</em></p>,\n",
       " <p class=\"title-artist\"><cite class=\"title\">Thank God</cite><em class=\"artist\">Kane Brown &amp; Katelyn Brown</em></p>,\n",
       " <p class=\"title-artist\"><cite class=\"title\">God's Country</cite><em class=\"artist\">Blake Shelton</em></p>,\n",
       " <p class=\"title-artist\"><cite class=\"title\">TRUSTFALL</cite><em class=\"artist\">P!nk</em></p>,\n",
       " <p class=\"title-artist\"><cite class=\"title\">Thank God I Do</cite><em class=\"artist\">Lauren Daigle</em></p>,\n",
       " <p class=\"title-artist\"><cite class=\"title\">Here Without You</cite><em class=\"artist\">3 Doors Down</em></p>,\n",
       " <p class=\"title-artist\"><cite class=\"title\">Rock and a Hard Place</cite><em class=\"artist\">Bailey Zimmerman</em></p>,\n",
       " <p class=\"title-artist\"><cite class=\"title\">wait in the truck</cite><em class=\"artist\">HARDY &amp; Lainey Wilson</em></p>,\n",
       " <p class=\"title-artist\"><cite class=\"title\">Kill Bill</cite><em class=\"artist\">SZA</em></p>,\n",
       " <p class=\"title-artist\"><cite class=\"title\">Favorite Song</cite><em class=\"artist\">Toosii</em></p>,\n",
       " <p class=\"title-artist\"><cite class=\"title\">Unstoppable</cite><em class=\"artist\">Sia</em></p>,\n",
       " <p class=\"title-artist\"><cite class=\"title\">More Than Able (feat. Chandler Moore &amp; Tiffany Hudson)</cite><em class=\"artist\">Elevation Worship</em></p>,\n",
       " <p class=\"title-artist\"><cite class=\"title\">I Ain't Worried</cite><em class=\"artist\">OneRepublic</em></p>,\n",
       " <p class=\"title-artist\"><cite class=\"title\">End of the World</cite><em class=\"artist\">Tom MacDonald &amp; John Rich</em></p>,\n",
       " <p class=\"title-artist\"><cite class=\"title\">In Jesus Name (God Of Possible)</cite><em class=\"artist\">Katy Nichole</em></p>,\n",
       " <p class=\"title-artist\"><cite class=\"title\">Eyes Closed (Piano Version)</cite><em class=\"artist\">Ed Sheeran</em></p>,\n",
       " <p class=\"title-artist\"><cite class=\"title\">Rescue</cite><em class=\"artist\">Lauren Daigle</em></p>,\n",
       " <p class=\"title-artist\"><cite class=\"title\">Wasted On You</cite><em class=\"artist\">Morgan Wallen</em></p>,\n",
       " <p class=\"title-artist\"><cite class=\"title\">This Is Our God</cite><em class=\"artist\">Phil Wickham</em></p>,\n",
       " <p class=\"title-artist\"><cite class=\"title\">All Of The Girls You Loved Before</cite><em class=\"artist\">Taylor Swift</em></p>,\n",
       " <p class=\"title-artist\"><cite class=\"title\">As It Was</cite><em class=\"artist\">Harry Styles</em></p>,\n",
       " <p class=\"title-artist\"><cite class=\"title\">Sure Thing</cite><em class=\"artist\">Miguel</em></p>,\n",
       " <p class=\"title-artist\"><cite class=\"title\">Something in the Orange (Z&amp;E's Version)</cite><em class=\"artist\">Zach Bryan</em></p>,\n",
       " <p class=\"title-artist\"><cite class=\"title\">NEED A FAVOR</cite><em class=\"artist\">Jelly Roll</em></p>,\n",
       " <p class=\"title-artist\"><cite class=\"title\">BESO</cite><em class=\"artist\">ROSALÍA &amp; Rauw Alejandro</em></p>,\n",
       " <p class=\"title-artist\"><cite class=\"title\">Eyes Closed</cite><em class=\"artist\">Ed Sheeran</em></p>,\n",
       " <p class=\"title-artist\"><cite class=\"title\">Look At Us Now (Honeycomb)</cite><em class=\"artist\">Daisy Jones &amp; The Six</em></p>,\n",
       " <p class=\"title-artist\"><cite class=\"title\">You Proof</cite><em class=\"artist\">Morgan Wallen</em></p>,\n",
       " <p class=\"title-artist\"><cite class=\"title\">Gratitude</cite><em class=\"artist\">Brandon Lake</em></p>,\n",
       " <p class=\"title-artist\"><cite class=\"title\">You Raise Me Up</cite><em class=\"artist\">Josh Groban</em></p>,\n",
       " <p class=\"title-artist\"><cite class=\"title\">Lift Me Up (From Black Panther: Wakanda Forever - Music From and Inspired By)</cite><em class=\"artist\">Rihanna</em></p>,\n",
       " <p class=\"title-artist\"><cite class=\"title\">Chasin' You</cite><em class=\"artist\">Morgan Wallen</em></p>,\n",
       " <p class=\"title-artist\"><cite class=\"title\">Face-off</cite><em class=\"artist\">Jimin</em></p>,\n",
       " <p class=\"title-artist\"><cite class=\"title\">Hold My Hand</cite><em class=\"artist\">Lady Gaga</em></p>,\n",
       " <p class=\"title-artist\"><cite class=\"title\">Son Of A Sinner</cite><em class=\"artist\">Jelly Roll</em></p>,\n",
       " <p class=\"title-artist\"><cite class=\"title\">Set Me Free, Pt. 2</cite><em class=\"artist\">Jimin</em></p>,\n",
       " <p class=\"title-artist\"><cite class=\"title\">Tennessee Whiskey</cite><em class=\"artist\">Chris Stapleton</em></p>,\n",
       " <p class=\"title-artist\"><cite class=\"title\">Lost</cite><em class=\"artist\">LINKIN PARK</em></p>,\n",
       " <p class=\"title-artist\"><cite class=\"title\">Bonjour</cite><em class=\"artist\">Zoey Dollaz</em></p>,\n",
       " <p class=\"title-artist\"><cite class=\"title\">TQG</cite><em class=\"artist\">KAROL G &amp; Shakira</em></p>,\n",
       " <p class=\"title-artist\"><cite class=\"title\">One Thing At A Time</cite><em class=\"artist\">Morgan Wallen</em></p>,\n",
       " <p class=\"title-artist\"><cite class=\"title\">ICU</cite><em class=\"artist\">Coco Jones</em></p>,\n",
       " <p class=\"title-artist\"><cite class=\"title\">God Is In This Story</cite><em class=\"artist\">Katy Nichole &amp; Big Daddy Weave</em></p>,\n",
       " <p class=\"title-artist\"><cite class=\"title\">Alone</cite><em class=\"artist\">Jimin</em></p>,\n",
       " <p class=\"title-artist\"><cite class=\"title\">Boy's a liar, Pt. 2</cite><em class=\"artist\">PinkPantheress &amp; Ice Spice</em></p>,\n",
       " <p class=\"title-artist\"><cite class=\"title\">Unholy</cite><em class=\"artist\">Sam Smith &amp; Kim Petras</em></p>,\n",
       " <p class=\"title-artist\"><cite class=\"title\">10:35</cite><em class=\"artist\">Tiësto &amp; Tate McRae</em></p>,\n",
       " <p class=\"title-artist\"><cite class=\"title\">Bright Eyes</cite><em class=\"artist\">Timcast</em></p>,\n",
       " <p class=\"title-artist\"><cite class=\"title\">Rainbowland (feat. Dolly Parton)</cite><em class=\"artist\">Miley Cyrus</em></p>,\n",
       " <p class=\"title-artist\"><cite class=\"title\">Escapism.</cite><em class=\"artist\">RAYE &amp; 070 Shake</em></p>,\n",
       " <p class=\"title-artist\"><cite class=\"title\">Made You Look</cite><em class=\"artist\">Meghan Trainor</em></p>,\n",
       " <p class=\"title-artist\"><cite class=\"title\">Mother</cite><em class=\"artist\">Meghan Trainor</em></p>,\n",
       " <p class=\"title-artist\"><cite class=\"title\">God Gave Me You</cite><em class=\"artist\">Blake Shelton</em></p>,\n",
       " <p class=\"title-artist\"><cite class=\"title\">I Wrote The Book</cite><em class=\"artist\">Morgan Wallen</em></p>,\n",
       " <p class=\"title-artist\"><cite class=\"title\">Human</cite><em class=\"artist\">Cody Johnson</em></p>,\n",
       " <p class=\"title-artist\"><cite class=\"title\">I'm Good (Blue)</cite><em class=\"artist\">David Guetta &amp; Bebe Rexha</em></p>,\n",
       " <p class=\"title-artist\"><cite class=\"title\">She Had Me At Heads Carolina</cite><em class=\"artist\">Cole Swindell</em></p>,\n",
       " <p class=\"title-artist\"><cite class=\"title\">Hold On To Me</cite><em class=\"artist\">Lauren Daigle</em></p>,\n",
       " <p class=\"title-artist\"><cite class=\"title\">Forever and Ever, Amen</cite><em class=\"artist\">Randy Travis</em></p>,\n",
       " <p class=\"title-artist\"><cite class=\"title\">golden hour</cite><em class=\"artist\">JVKE</em></p>,\n",
       " <p class=\"title-artist\"><cite class=\"title\">Handle On You</cite><em class=\"artist\">Parker McCollum</em></p>,\n",
       " <p class=\"title-artist\"><cite class=\"title\">Dancin’ In The Country</cite><em class=\"artist\">Tyler Hubbard</em></p>,\n",
       " <p class=\"title-artist\"><cite class=\"title\">What He Didn't Do</cite><em class=\"artist\">Carly Pearce</em></p>,\n",
       " <p class=\"title-artist\"><cite class=\"title\">Bloody Mary</cite><em class=\"artist\">Lady Gaga</em></p>,\n",
       " <p class=\"title-artist\"><cite class=\"title\">Cowgirls (feat. ERNEST)</cite><em class=\"artist\">Morgan Wallen</em></p>,\n",
       " <p class=\"title-artist\"><cite class=\"title\">Tennessee Orange</cite><em class=\"artist\">Megan Moroney</em></p>,\n",
       " <p class=\"title-artist\"><cite class=\"title\">Lavender Haze</cite><em class=\"artist\">Taylor Swift</em></p>,\n",
       " <p class=\"title-artist\"><cite class=\"title\">Die For You (Remix)</cite><em class=\"artist\">The Weeknd &amp; Ariana Grande</em></p>,\n",
       " <p class=\"title-artist\"><cite class=\"title\">Shivers</cite><em class=\"artist\">Ed Sheeran</em></p>,\n",
       " <p class=\"title-artist\"><cite class=\"title\">Everywhere</cite><em class=\"artist\">Fleetwood Mac</em></p>,\n",
       " <p class=\"title-artist\"><cite class=\"title\">Interlude : Dive</cite><em class=\"artist\">Jimin</em></p>,\n",
       " <p class=\"title-artist\"><cite class=\"title\">Creepin'</cite><em class=\"artist\">Metro Boomin, The Weeknd &amp; 21 Savage</em></p>,\n",
       " <p class=\"title-artist\"><cite class=\"title\">Heaven</cite><em class=\"artist\">Niall Horan</em></p>,\n",
       " <p class=\"title-artist\"><cite class=\"title\">Change the World</cite><em class=\"artist\">Eric Clapton</em></p>,\n",
       " <p class=\"title-artist\"><cite class=\"title\">Going, Going, Gone</cite><em class=\"artist\">Luke Combs</em></p>,\n",
       " <p class=\"title-artist\"><cite class=\"title\">NASTY</cite><em class=\"artist\">Russ</em></p>,\n",
       " <p class=\"title-artist\"><cite class=\"title\">Just Pretend</cite><em class=\"artist\">Bad Omens</em></p>,\n",
       " <p class=\"title-artist\"><cite class=\"title\">Calm Down</cite><em class=\"artist\">Rema</em></p>,\n",
       " <p class=\"title-artist\"><cite class=\"title\">'Til You Can't</cite><em class=\"artist\">Cody Johnson</em></p>]"
      ]
     },
     "execution_count": 7,
     "metadata": {},
     "output_type": "execute_result"
    }
   ],
   "source": [
    "soup.select(\"div.chart-content.col-xs-12.col-sm-8 > p \")\n",
    "\n",
    "## scraping of the whole list "
   ]
  },
  {
   "cell_type": "code",
   "execution_count": 8,
   "id": "35fdea38",
   "metadata": {},
   "outputs": [
    {
     "name": "stdout",
     "output_type": "stream",
     "text": [
      "[<cite class=\"title\">Last Night</cite>, <cite class=\"title\">Flowers</cite>, <cite class=\"title\">Fast Car</cite>, <cite class=\"title\">Like Crazy (Deep House Remix)</cite>, <cite class=\"title\">Like Crazy (UK Garage Remix)</cite>, <cite class=\"title\">Calm Down</cite>, <cite class=\"title\">Like Crazy (Instrumental)</cite>, <cite class=\"title\">Heart Like A Truck</cite>, <cite class=\"title\">Eyes Closed</cite>, <cite class=\"title\">Justice for All</cite>, <cite class=\"title\">Like Crazy (English Version)</cite>, <cite class=\"title\">Fighting Myself</cite>, <cite class=\"title\">Like Crazy</cite>, <cite class=\"title\">You Say</cite>, <cite class=\"title\">Anti-Hero</cite>, <cite class=\"title\">Thinkin’ Bout Me</cite>, <cite class=\"title\">Thought You Should Know</cite>, <cite class=\"title\">Players</cite>, <cite class=\"title\">Growin' Up and Gettin' Old</cite>, <cite class=\"title\">labour</cite>, <cite class=\"title\">5 Leaf Clover</cite>, <cite class=\"title\">Love You Anyway</cite>, <cite class=\"title\">Thank God</cite>, <cite class=\"title\">God's Country</cite>, <cite class=\"title\">TRUSTFALL</cite>, <cite class=\"title\">Thank God I Do</cite>, <cite class=\"title\">Here Without You</cite>, <cite class=\"title\">Rock and a Hard Place</cite>, <cite class=\"title\">wait in the truck</cite>, <cite class=\"title\">Kill Bill</cite>, <cite class=\"title\">Favorite Song</cite>, <cite class=\"title\">Unstoppable</cite>, <cite class=\"title\">More Than Able (feat. Chandler Moore &amp; Tiffany Hudson)</cite>, <cite class=\"title\">I Ain't Worried</cite>, <cite class=\"title\">End of the World</cite>, <cite class=\"title\">In Jesus Name (God Of Possible)</cite>, <cite class=\"title\">Eyes Closed (Piano Version)</cite>, <cite class=\"title\">Rescue</cite>, <cite class=\"title\">Wasted On You</cite>, <cite class=\"title\">This Is Our God</cite>, <cite class=\"title\">All Of The Girls You Loved Before</cite>, <cite class=\"title\">As It Was</cite>, <cite class=\"title\">Sure Thing</cite>, <cite class=\"title\">Something in the Orange (Z&amp;E's Version)</cite>, <cite class=\"title\">NEED A FAVOR</cite>, <cite class=\"title\">BESO</cite>, <cite class=\"title\">Eyes Closed</cite>, <cite class=\"title\">Look At Us Now (Honeycomb)</cite>, <cite class=\"title\">You Proof</cite>, <cite class=\"title\">Gratitude</cite>, <cite class=\"title\">You Raise Me Up</cite>, <cite class=\"title\">Lift Me Up (From Black Panther: Wakanda Forever - Music From and Inspired By)</cite>, <cite class=\"title\">Chasin' You</cite>, <cite class=\"title\">Face-off</cite>, <cite class=\"title\">Hold My Hand</cite>, <cite class=\"title\">Son Of A Sinner</cite>, <cite class=\"title\">Set Me Free, Pt. 2</cite>, <cite class=\"title\">Tennessee Whiskey</cite>, <cite class=\"title\">Lost</cite>, <cite class=\"title\">Bonjour</cite>, <cite class=\"title\">TQG</cite>, <cite class=\"title\">One Thing At A Time</cite>, <cite class=\"title\">ICU</cite>, <cite class=\"title\">God Is In This Story</cite>, <cite class=\"title\">Alone</cite>, <cite class=\"title\">Boy's a liar, Pt. 2</cite>, <cite class=\"title\">Unholy</cite>, <cite class=\"title\">10:35</cite>, <cite class=\"title\">Bright Eyes</cite>, <cite class=\"title\">Rainbowland (feat. Dolly Parton)</cite>, <cite class=\"title\">Escapism.</cite>, <cite class=\"title\">Made You Look</cite>, <cite class=\"title\">Mother</cite>, <cite class=\"title\">God Gave Me You</cite>, <cite class=\"title\">I Wrote The Book</cite>, <cite class=\"title\">Human</cite>, <cite class=\"title\">I'm Good (Blue)</cite>, <cite class=\"title\">She Had Me At Heads Carolina</cite>, <cite class=\"title\">Hold On To Me</cite>, <cite class=\"title\">Forever and Ever, Amen</cite>, <cite class=\"title\">golden hour</cite>, <cite class=\"title\">Handle On You</cite>, <cite class=\"title\">Dancin’ In The Country</cite>, <cite class=\"title\">What He Didn't Do</cite>, <cite class=\"title\">Bloody Mary</cite>, <cite class=\"title\">Cowgirls (feat. ERNEST)</cite>, <cite class=\"title\">Tennessee Orange</cite>, <cite class=\"title\">Lavender Haze</cite>, <cite class=\"title\">Die For You (Remix)</cite>, <cite class=\"title\">Shivers</cite>, <cite class=\"title\">Everywhere</cite>, <cite class=\"title\">Interlude : Dive</cite>, <cite class=\"title\">Creepin'</cite>, <cite class=\"title\">Heaven</cite>, <cite class=\"title\">Change the World</cite>, <cite class=\"title\">Going, Going, Gone</cite>, <cite class=\"title\">NASTY</cite>, <cite class=\"title\">Just Pretend</cite>, <cite class=\"title\">Calm Down</cite>, <cite class=\"title\">'Til You Can't</cite>]\n",
      "[<em class=\"artist\">Morgan Wallen</em>, <em class=\"artist\">Miley Cyrus</em>, <em class=\"artist\">Luke Combs</em>, <em class=\"artist\">Jimin</em>, <em class=\"artist\">Jimin</em>, <em class=\"artist\">Rema &amp; Selena Gomez</em>, <em class=\"artist\">Jimin</em>, <em class=\"artist\">Lainey Wilson</em>, <em class=\"artist\">Ed Sheeran</em>, <em class=\"artist\">Donald J. Trump &amp; J6 Prison Choir</em>, <em class=\"artist\">Jimin</em>, <em class=\"artist\">LINKIN PARK</em>, <em class=\"artist\">Jimin</em>, <em class=\"artist\">Lauren Daigle</em>, <em class=\"artist\">Taylor Swift</em>, <em class=\"artist\">Morgan Wallen</em>, <em class=\"artist\">Morgan Wallen</em>, <em class=\"artist\">Coi Leray</em>, <em class=\"artist\">Luke Combs</em>, <em class=\"artist\">Paris Paloma</em>, <em class=\"artist\">Luke Combs</em>, <em class=\"artist\">Luke Combs</em>, <em class=\"artist\">Kane Brown &amp; Katelyn Brown</em>, <em class=\"artist\">Blake Shelton</em>, <em class=\"artist\">P!nk</em>, <em class=\"artist\">Lauren Daigle</em>, <em class=\"artist\">3 Doors Down</em>, <em class=\"artist\">Bailey Zimmerman</em>, <em class=\"artist\">HARDY &amp; Lainey Wilson</em>, <em class=\"artist\">SZA</em>, <em class=\"artist\">Toosii</em>, <em class=\"artist\">Sia</em>, <em class=\"artist\">Elevation Worship</em>, <em class=\"artist\">OneRepublic</em>, <em class=\"artist\">Tom MacDonald &amp; John Rich</em>, <em class=\"artist\">Katy Nichole</em>, <em class=\"artist\">Ed Sheeran</em>, <em class=\"artist\">Lauren Daigle</em>, <em class=\"artist\">Morgan Wallen</em>, <em class=\"artist\">Phil Wickham</em>, <em class=\"artist\">Taylor Swift</em>, <em class=\"artist\">Harry Styles</em>, <em class=\"artist\">Miguel</em>, <em class=\"artist\">Zach Bryan</em>, <em class=\"artist\">Jelly Roll</em>, <em class=\"artist\">ROSALÍA &amp; Rauw Alejandro</em>, <em class=\"artist\">Ed Sheeran</em>, <em class=\"artist\">Daisy Jones &amp; The Six</em>, <em class=\"artist\">Morgan Wallen</em>, <em class=\"artist\">Brandon Lake</em>, <em class=\"artist\">Josh Groban</em>, <em class=\"artist\">Rihanna</em>, <em class=\"artist\">Morgan Wallen</em>, <em class=\"artist\">Jimin</em>, <em class=\"artist\">Lady Gaga</em>, <em class=\"artist\">Jelly Roll</em>, <em class=\"artist\">Jimin</em>, <em class=\"artist\">Chris Stapleton</em>, <em class=\"artist\">LINKIN PARK</em>, <em class=\"artist\">Zoey Dollaz</em>, <em class=\"artist\">KAROL G &amp; Shakira</em>, <em class=\"artist\">Morgan Wallen</em>, <em class=\"artist\">Coco Jones</em>, <em class=\"artist\">Katy Nichole &amp; Big Daddy Weave</em>, <em class=\"artist\">Jimin</em>, <em class=\"artist\">PinkPantheress &amp; Ice Spice</em>, <em class=\"artist\">Sam Smith &amp; Kim Petras</em>, <em class=\"artist\">Tiësto &amp; Tate McRae</em>, <em class=\"artist\">Timcast</em>, <em class=\"artist\">Miley Cyrus</em>, <em class=\"artist\">RAYE &amp; 070 Shake</em>, <em class=\"artist\">Meghan Trainor</em>, <em class=\"artist\">Meghan Trainor</em>, <em class=\"artist\">Blake Shelton</em>, <em class=\"artist\">Morgan Wallen</em>, <em class=\"artist\">Cody Johnson</em>, <em class=\"artist\">David Guetta &amp; Bebe Rexha</em>, <em class=\"artist\">Cole Swindell</em>, <em class=\"artist\">Lauren Daigle</em>, <em class=\"artist\">Randy Travis</em>, <em class=\"artist\">JVKE</em>, <em class=\"artist\">Parker McCollum</em>, <em class=\"artist\">Tyler Hubbard</em>, <em class=\"artist\">Carly Pearce</em>, <em class=\"artist\">Lady Gaga</em>, <em class=\"artist\">Morgan Wallen</em>, <em class=\"artist\">Megan Moroney</em>, <em class=\"artist\">Taylor Swift</em>, <em class=\"artist\">The Weeknd &amp; Ariana Grande</em>, <em class=\"artist\">Ed Sheeran</em>, <em class=\"artist\">Fleetwood Mac</em>, <em class=\"artist\">Jimin</em>, <em class=\"artist\">Metro Boomin, The Weeknd &amp; 21 Savage</em>, <em class=\"artist\">Niall Horan</em>, <em class=\"artist\">Eric Clapton</em>, <em class=\"artist\">Luke Combs</em>, <em class=\"artist\">Russ</em>, <em class=\"artist\">Bad Omens</em>, <em class=\"artist\">Rema</em>, <em class=\"artist\">Cody Johnson</em>]\n"
     ]
    }
   ],
   "source": [
    "titleartist=soup.select(\"div.chart-content.col-xs-12.col-sm-8 > p > cite\")\n",
    "title = soup.select(\"div.chart-content.col-xs-12.col-sm-8 > p > em\")\n",
    "\n",
    "print(titleartist)\n",
    "print(title)\n",
    "\n",
    "## made two lists that contain names and titles "
   ]
  },
  {
   "cell_type": "code",
   "execution_count": 9,
   "id": "620771a4",
   "metadata": {},
   "outputs": [
    {
     "name": "stdout",
     "output_type": "stream",
     "text": [
      "['Last Night', 'Flowers', 'Fast Car', 'Like Crazy (Deep House Remix)', 'Like Crazy (UK Garage Remix)', 'Calm Down', 'Like Crazy (Instrumental)', 'Heart Like A Truck', 'Eyes Closed', 'Justice for All', 'Like Crazy (English Version)', 'Fighting Myself', 'Like Crazy', 'You Say', 'Anti-Hero', 'Thinkin’ Bout Me', 'Thought You Should Know', 'Players', \"Growin' Up and Gettin' Old\", 'labour', '5 Leaf Clover', 'Love You Anyway', 'Thank God', \"God's Country\", 'TRUSTFALL', 'Thank God I Do', 'Here Without You', 'Rock and a Hard Place', 'wait in the truck', 'Kill Bill', 'Favorite Song', 'Unstoppable', 'More Than Able (feat. Chandler Moore & Tiffany Hudson)', \"I Ain't Worried\", 'End of the World', 'In Jesus Name (God Of Possible)', 'Eyes Closed (Piano Version)', 'Rescue', 'Wasted On You', 'This Is Our God', 'All Of The Girls You Loved Before', 'As It Was', 'Sure Thing', \"Something in the Orange (Z&E's Version)\", 'NEED A FAVOR', 'BESO', 'Eyes Closed', 'Look At Us Now (Honeycomb)', 'You Proof', 'Gratitude', 'You Raise Me Up', 'Lift Me Up (From Black Panther: Wakanda Forever - Music From and Inspired By)', \"Chasin' You\", 'Face-off', 'Hold My Hand', 'Son Of A Sinner', 'Set Me Free, Pt. 2', 'Tennessee Whiskey', 'Lost', 'Bonjour', 'TQG', 'One Thing At A Time', 'ICU', 'God Is In This Story', 'Alone', \"Boy's a liar, Pt. 2\", 'Unholy', '10:35', 'Bright Eyes', 'Rainbowland (feat. Dolly Parton)', 'Escapism.', 'Made You Look', 'Mother', 'God Gave Me You', 'I Wrote The Book', 'Human', \"I'm Good (Blue)\", 'She Had Me At Heads Carolina', 'Hold On To Me', 'Forever and Ever, Amen', 'golden hour', 'Handle On You', 'Dancin’ In The Country', \"What He Didn't Do\", 'Bloody Mary', 'Cowgirls (feat. ERNEST)', 'Tennessee Orange', 'Lavender Haze', 'Die For You (Remix)', 'Shivers', 'Everywhere', 'Interlude : Dive', \"Creepin'\", 'Heaven', 'Change the World', 'Going, Going, Gone', 'NASTY', 'Just Pretend', 'Calm Down', \"'Til You Can't\"]\n",
      "['Morgan Wallen', 'Miley Cyrus', 'Luke Combs', 'Jimin', 'Jimin', 'Rema & Selena Gomez', 'Jimin', 'Lainey Wilson', 'Ed Sheeran', 'Donald J. Trump & J6 Prison Choir', 'Jimin', 'LINKIN PARK', 'Jimin', 'Lauren Daigle', 'Taylor Swift', 'Morgan Wallen', 'Morgan Wallen', 'Coi Leray', 'Luke Combs', 'Paris Paloma', 'Luke Combs', 'Luke Combs', 'Kane Brown & Katelyn Brown', 'Blake Shelton', 'P!nk', 'Lauren Daigle', '3 Doors Down', 'Bailey Zimmerman', 'HARDY & Lainey Wilson', 'SZA', 'Toosii', 'Sia', 'Elevation Worship', 'OneRepublic', 'Tom MacDonald & John Rich', 'Katy Nichole', 'Ed Sheeran', 'Lauren Daigle', 'Morgan Wallen', 'Phil Wickham', 'Taylor Swift', 'Harry Styles', 'Miguel', 'Zach Bryan', 'Jelly Roll', 'ROSALÍA & Rauw Alejandro', 'Ed Sheeran', 'Daisy Jones & The Six', 'Morgan Wallen', 'Brandon Lake', 'Josh Groban', 'Rihanna', 'Morgan Wallen', 'Jimin', 'Lady Gaga', 'Jelly Roll', 'Jimin', 'Chris Stapleton', 'LINKIN PARK', 'Zoey Dollaz', 'KAROL G & Shakira', 'Morgan Wallen', 'Coco Jones', 'Katy Nichole & Big Daddy Weave', 'Jimin', 'PinkPantheress & Ice Spice', 'Sam Smith & Kim Petras', 'Tiësto & Tate McRae', 'Timcast', 'Miley Cyrus', 'RAYE & 070 Shake', 'Meghan Trainor', 'Meghan Trainor', 'Blake Shelton', 'Morgan Wallen', 'Cody Johnson', 'David Guetta & Bebe Rexha', 'Cole Swindell', 'Lauren Daigle', 'Randy Travis', 'JVKE', 'Parker McCollum', 'Tyler Hubbard', 'Carly Pearce', 'Lady Gaga', 'Morgan Wallen', 'Megan Moroney', 'Taylor Swift', 'The Weeknd & Ariana Grande', 'Ed Sheeran', 'Fleetwood Mac', 'Jimin', 'Metro Boomin, The Weeknd & 21 Savage', 'Niall Horan', 'Eric Clapton', 'Luke Combs', 'Russ', 'Bad Omens', 'Rema', 'Cody Johnson']\n"
     ]
    }
   ],
   "source": [
    "#initialize empty lists\n",
    "title = []\n",
    "artist = []\n",
    "\n",
    "\n",
    "# define the number of iterations of our for loop\n",
    "# by checking how many elements are in the retrieved result set\n",
    "# (this is equivalent but more robust than just explicitly defining 250 iterations)\n",
    "num_iter = len(soup.select(\"div.chart-content.col-xs-12.col-sm-8 > p > cite\"))\n",
    "\n",
    "tClist = soup.select(\"div.chart-content.col-xs-12.col-sm-8 > p > cite\")\n",
    "spanlist = soup.select(\"div.chart-content.col-xs-12.col-sm-8 > p > em\")\n",
    "# iterate through the result set and retrive all the data\n",
    "for i in range(num_iter):\n",
    "    title.append(tClist[i].get_text())\n",
    "    artist.append(spanlist[i].get_text())\n",
    "\n",
    "print(title)\n",
    "print(artist)\n",
    "## the lengths are not equal as one is 121 and the other is a bit lower "
   ]
  },
  {
   "cell_type": "code",
   "execution_count": 25,
   "id": "74b59631",
   "metadata": {},
   "outputs": [],
   "source": [
    "songs = pd.DataFrame({ \"artist_name\":artist,\n",
    "                        \"title\":title\n",
    "                      })\n",
    "\n",
    "##DF of hot 100 "
   ]
  },
  {
   "cell_type": "code",
   "execution_count": 93,
   "id": "ffdd614a",
   "metadata": {},
   "outputs": [
    {
     "name": "stdout",
     "output_type": "stream",
     "text": [
      "Damn thats hot, you might like this song:\n",
      "Chris Stapleton Tennessee Whiskey\n"
     ]
    }
   ],
   "source": [
    "    hotcandidate = input(\"Please enter a song and we will check if its hot:\")\n",
    "    \n",
    "    x=0\n",
    "    for i in songs[\"title\"]:\n",
    "            if i==hotcandidate:\n",
    "                test = songs[songs['title'] != hotcandidate]\n",
    "                test=songs.sample(n = 1)\n",
    "                test=test.to_string(index=False, header=False)\n",
    "                answer=\"Damn thats hot!!! You might like this song:\"\n",
    "                answer2=test\n",
    "                x=0\n",
    "                break\n",
    "            else:\n",
    "                x+=1\n",
    "\n",
    "    if x>0:\n",
    "        answer=\"please try again\"\n",
    "        \n",
    "    \n",
    "    print(answer)\n",
    "    print(answer2)\n",
    "    \n",
    "###works without a call function and return "
   ]
  },
  {
   "cell_type": "code",
   "execution_count": 85,
   "id": "1f9e853b",
   "metadata": {},
   "outputs": [],
   "source": [
    "\n",
    "def hotsong(hotcandidate):\n",
    "    \n",
    "    hotcandidate = input(\"Please enter a song and we will check if its hot:\")\n",
    "\n",
    "    x=0\n",
    "        \n",
    "    for i in songs[\"title\"]:\n",
    "            if i==hotcandidate:\n",
    "                test = songs[songs['title'] != hotcandidate]\n",
    "                test=songs.sample(n = 1)\n",
    "                test=test.to_string(index=False, header=False)\n",
    "                answer=\"Damn thats hot, you might like this song:\" + test\n",
    "                x=0\n",
    "                break\n",
    "            else:\n",
    "                x+=1\n",
    "\n",
    "    if x>0:\n",
    "        answer=\"please try again\"\n",
    "\n",
    "\n",
    "    return answer"
   ]
  },
  {
   "cell_type": "code",
   "execution_count": 88,
   "id": "e45cf659",
   "metadata": {},
   "outputs": [
    {
     "name": "stdout",
     "output_type": "stream",
     "text": [
      "Please enter a song and we will check if its hot:Flowers\n"
     ]
    },
    {
     "ename": "ValueError",
     "evalue": "The truth value of a Series is ambiguous. Use a.empty, a.bool(), a.item(), a.any() or a.all().",
     "output_type": "error",
     "traceback": [
      "\u001b[1;31m---------------------------------------------------------------------------\u001b[0m",
      "\u001b[1;31mValueError\u001b[0m                                Traceback (most recent call last)",
      "\u001b[1;32m~\\AppData\\Local\\Temp\\ipykernel_19968\\965485709.py\u001b[0m in \u001b[0;36m<module>\u001b[1;34m\u001b[0m\n\u001b[0;32m      1\u001b[0m \u001b[0mhotcandidate\u001b[0m \u001b[1;33m=\u001b[0m \u001b[0minput\u001b[0m\u001b[1;33m(\u001b[0m\u001b[1;34m\"Please enter a song and we will check if its hot:\"\u001b[0m\u001b[1;33m)\u001b[0m\u001b[1;33m\u001b[0m\u001b[1;33m\u001b[0m\u001b[0m\n\u001b[0;32m      2\u001b[0m \u001b[1;33m\u001b[0m\u001b[0m\n\u001b[1;32m----> 3\u001b[1;33m \u001b[0msongs\u001b[0m\u001b[1;33m.\u001b[0m\u001b[0mapply\u001b[0m\u001b[1;33m(\u001b[0m\u001b[0mhotsong\u001b[0m\u001b[1;33m)\u001b[0m\u001b[1;33m\u001b[0m\u001b[1;33m\u001b[0m\u001b[0m\n\u001b[0m",
      "\u001b[1;32m~\\anaconda3\\lib\\site-packages\\pandas\\core\\frame.py\u001b[0m in \u001b[0;36mapply\u001b[1;34m(self, func, axis, raw, result_type, args, **kwargs)\u001b[0m\n\u001b[0;32m   8846\u001b[0m             \u001b[0mkwargs\u001b[0m\u001b[1;33m=\u001b[0m\u001b[0mkwargs\u001b[0m\u001b[1;33m,\u001b[0m\u001b[1;33m\u001b[0m\u001b[1;33m\u001b[0m\u001b[0m\n\u001b[0;32m   8847\u001b[0m         )\n\u001b[1;32m-> 8848\u001b[1;33m         \u001b[1;32mreturn\u001b[0m \u001b[0mop\u001b[0m\u001b[1;33m.\u001b[0m\u001b[0mapply\u001b[0m\u001b[1;33m(\u001b[0m\u001b[1;33m)\u001b[0m\u001b[1;33m.\u001b[0m\u001b[0m__finalize__\u001b[0m\u001b[1;33m(\u001b[0m\u001b[0mself\u001b[0m\u001b[1;33m,\u001b[0m \u001b[0mmethod\u001b[0m\u001b[1;33m=\u001b[0m\u001b[1;34m\"apply\"\u001b[0m\u001b[1;33m)\u001b[0m\u001b[1;33m\u001b[0m\u001b[1;33m\u001b[0m\u001b[0m\n\u001b[0m\u001b[0;32m   8849\u001b[0m \u001b[1;33m\u001b[0m\u001b[0m\n\u001b[0;32m   8850\u001b[0m     def applymap(\n",
      "\u001b[1;32m~\\anaconda3\\lib\\site-packages\\pandas\\core\\apply.py\u001b[0m in \u001b[0;36mapply\u001b[1;34m(self)\u001b[0m\n\u001b[0;32m    731\u001b[0m             \u001b[1;32mreturn\u001b[0m \u001b[0mself\u001b[0m\u001b[1;33m.\u001b[0m\u001b[0mapply_raw\u001b[0m\u001b[1;33m(\u001b[0m\u001b[1;33m)\u001b[0m\u001b[1;33m\u001b[0m\u001b[1;33m\u001b[0m\u001b[0m\n\u001b[0;32m    732\u001b[0m \u001b[1;33m\u001b[0m\u001b[0m\n\u001b[1;32m--> 733\u001b[1;33m         \u001b[1;32mreturn\u001b[0m \u001b[0mself\u001b[0m\u001b[1;33m.\u001b[0m\u001b[0mapply_standard\u001b[0m\u001b[1;33m(\u001b[0m\u001b[1;33m)\u001b[0m\u001b[1;33m\u001b[0m\u001b[1;33m\u001b[0m\u001b[0m\n\u001b[0m\u001b[0;32m    734\u001b[0m \u001b[1;33m\u001b[0m\u001b[0m\n\u001b[0;32m    735\u001b[0m     \u001b[1;32mdef\u001b[0m \u001b[0magg\u001b[0m\u001b[1;33m(\u001b[0m\u001b[0mself\u001b[0m\u001b[1;33m)\u001b[0m\u001b[1;33m:\u001b[0m\u001b[1;33m\u001b[0m\u001b[1;33m\u001b[0m\u001b[0m\n",
      "\u001b[1;32m~\\anaconda3\\lib\\site-packages\\pandas\\core\\apply.py\u001b[0m in \u001b[0;36mapply_standard\u001b[1;34m(self)\u001b[0m\n\u001b[0;32m    855\u001b[0m \u001b[1;33m\u001b[0m\u001b[0m\n\u001b[0;32m    856\u001b[0m     \u001b[1;32mdef\u001b[0m \u001b[0mapply_standard\u001b[0m\u001b[1;33m(\u001b[0m\u001b[0mself\u001b[0m\u001b[1;33m)\u001b[0m\u001b[1;33m:\u001b[0m\u001b[1;33m\u001b[0m\u001b[1;33m\u001b[0m\u001b[0m\n\u001b[1;32m--> 857\u001b[1;33m         \u001b[0mresults\u001b[0m\u001b[1;33m,\u001b[0m \u001b[0mres_index\u001b[0m \u001b[1;33m=\u001b[0m \u001b[0mself\u001b[0m\u001b[1;33m.\u001b[0m\u001b[0mapply_series_generator\u001b[0m\u001b[1;33m(\u001b[0m\u001b[1;33m)\u001b[0m\u001b[1;33m\u001b[0m\u001b[1;33m\u001b[0m\u001b[0m\n\u001b[0m\u001b[0;32m    858\u001b[0m \u001b[1;33m\u001b[0m\u001b[0m\n\u001b[0;32m    859\u001b[0m         \u001b[1;31m# wrap results\u001b[0m\u001b[1;33m\u001b[0m\u001b[1;33m\u001b[0m\u001b[0m\n",
      "\u001b[1;32m~\\anaconda3\\lib\\site-packages\\pandas\\core\\apply.py\u001b[0m in \u001b[0;36mapply_series_generator\u001b[1;34m(self)\u001b[0m\n\u001b[0;32m    871\u001b[0m             \u001b[1;32mfor\u001b[0m \u001b[0mi\u001b[0m\u001b[1;33m,\u001b[0m \u001b[0mv\u001b[0m \u001b[1;32min\u001b[0m \u001b[0menumerate\u001b[0m\u001b[1;33m(\u001b[0m\u001b[0mseries_gen\u001b[0m\u001b[1;33m)\u001b[0m\u001b[1;33m:\u001b[0m\u001b[1;33m\u001b[0m\u001b[1;33m\u001b[0m\u001b[0m\n\u001b[0;32m    872\u001b[0m                 \u001b[1;31m# ignore SettingWithCopy here in case the user mutates\u001b[0m\u001b[1;33m\u001b[0m\u001b[1;33m\u001b[0m\u001b[0m\n\u001b[1;32m--> 873\u001b[1;33m                 \u001b[0mresults\u001b[0m\u001b[1;33m[\u001b[0m\u001b[0mi\u001b[0m\u001b[1;33m]\u001b[0m \u001b[1;33m=\u001b[0m \u001b[0mself\u001b[0m\u001b[1;33m.\u001b[0m\u001b[0mf\u001b[0m\u001b[1;33m(\u001b[0m\u001b[0mv\u001b[0m\u001b[1;33m)\u001b[0m\u001b[1;33m\u001b[0m\u001b[1;33m\u001b[0m\u001b[0m\n\u001b[0m\u001b[0;32m    874\u001b[0m                 \u001b[1;32mif\u001b[0m \u001b[0misinstance\u001b[0m\u001b[1;33m(\u001b[0m\u001b[0mresults\u001b[0m\u001b[1;33m[\u001b[0m\u001b[0mi\u001b[0m\u001b[1;33m]\u001b[0m\u001b[1;33m,\u001b[0m \u001b[0mABCSeries\u001b[0m\u001b[1;33m)\u001b[0m\u001b[1;33m:\u001b[0m\u001b[1;33m\u001b[0m\u001b[1;33m\u001b[0m\u001b[0m\n\u001b[0;32m    875\u001b[0m                     \u001b[1;31m# If we have a view on v, we need to make a copy because\u001b[0m\u001b[1;33m\u001b[0m\u001b[1;33m\u001b[0m\u001b[0m\n",
      "\u001b[1;32m~\\AppData\\Local\\Temp\\ipykernel_19968\\1686435314.py\u001b[0m in \u001b[0;36mhotsong\u001b[1;34m(hotcandidate)\u001b[0m\n\u001b[0;32m      5\u001b[0m \u001b[1;33m\u001b[0m\u001b[0m\n\u001b[0;32m      6\u001b[0m     \u001b[1;32mfor\u001b[0m \u001b[0mi\u001b[0m \u001b[1;32min\u001b[0m \u001b[0msongs\u001b[0m\u001b[1;33m[\u001b[0m\u001b[1;34m\"title\"\u001b[0m\u001b[1;33m]\u001b[0m\u001b[1;33m:\u001b[0m\u001b[1;33m\u001b[0m\u001b[1;33m\u001b[0m\u001b[0m\n\u001b[1;32m----> 7\u001b[1;33m             \u001b[1;32mif\u001b[0m \u001b[0mi\u001b[0m\u001b[1;33m==\u001b[0m\u001b[0mhotcandidate\u001b[0m\u001b[1;33m:\u001b[0m\u001b[1;33m\u001b[0m\u001b[1;33m\u001b[0m\u001b[0m\n\u001b[0m\u001b[0;32m      8\u001b[0m                 \u001b[0mtest\u001b[0m \u001b[1;33m=\u001b[0m \u001b[0msongs\u001b[0m\u001b[1;33m[\u001b[0m\u001b[0msongs\u001b[0m\u001b[1;33m[\u001b[0m\u001b[1;34m'title'\u001b[0m\u001b[1;33m]\u001b[0m \u001b[1;33m!=\u001b[0m \u001b[0mhotcandidate\u001b[0m\u001b[1;33m]\u001b[0m\u001b[1;33m\u001b[0m\u001b[1;33m\u001b[0m\u001b[0m\n\u001b[0;32m      9\u001b[0m                 \u001b[0mtest\u001b[0m\u001b[1;33m=\u001b[0m\u001b[0msongs\u001b[0m\u001b[1;33m.\u001b[0m\u001b[0msample\u001b[0m\u001b[1;33m(\u001b[0m\u001b[0mn\u001b[0m \u001b[1;33m=\u001b[0m \u001b[1;36m1\u001b[0m\u001b[1;33m)\u001b[0m\u001b[1;33m\u001b[0m\u001b[1;33m\u001b[0m\u001b[0m\n",
      "\u001b[1;32m~\\anaconda3\\lib\\site-packages\\pandas\\core\\generic.py\u001b[0m in \u001b[0;36m__nonzero__\u001b[1;34m(self)\u001b[0m\n\u001b[0;32m   1525\u001b[0m     \u001b[1;33m@\u001b[0m\u001b[0mfinal\u001b[0m\u001b[1;33m\u001b[0m\u001b[1;33m\u001b[0m\u001b[0m\n\u001b[0;32m   1526\u001b[0m     \u001b[1;32mdef\u001b[0m \u001b[0m__nonzero__\u001b[0m\u001b[1;33m(\u001b[0m\u001b[0mself\u001b[0m\u001b[1;33m)\u001b[0m\u001b[1;33m:\u001b[0m\u001b[1;33m\u001b[0m\u001b[1;33m\u001b[0m\u001b[0m\n\u001b[1;32m-> 1527\u001b[1;33m         raise ValueError(\n\u001b[0m\u001b[0;32m   1528\u001b[0m             \u001b[1;34mf\"The truth value of a {type(self).__name__} is ambiguous. \"\u001b[0m\u001b[1;33m\u001b[0m\u001b[1;33m\u001b[0m\u001b[0m\n\u001b[0;32m   1529\u001b[0m             \u001b[1;34m\"Use a.empty, a.bool(), a.item(), a.any() or a.all().\"\u001b[0m\u001b[1;33m\u001b[0m\u001b[1;33m\u001b[0m\u001b[0m\n",
      "\u001b[1;31mValueError\u001b[0m: The truth value of a Series is ambiguous. Use a.empty, a.bool(), a.item(), a.any() or a.all()."
     ]
    }
   ],
   "source": [
    "\n",
    "songs.apply(hotsong)\n",
    "\n",
    "## this function is not working yet the idea is to run it on our  songs DF and to ask the user for his song\n",
    "\n",
    "## please see the above  version that works without a function \n"
   ]
  },
  {
   "cell_type": "code",
   "execution_count": null,
   "id": "1242e2a4",
   "metadata": {},
   "outputs": [],
   "source": []
  }
 ],
 "metadata": {
  "kernelspec": {
   "display_name": "Python 3 (ipykernel)",
   "language": "python",
   "name": "python3"
  },
  "language_info": {
   "codemirror_mode": {
    "name": "ipython",
    "version": 3
   },
   "file_extension": ".py",
   "mimetype": "text/x-python",
   "name": "python",
   "nbconvert_exporter": "python",
   "pygments_lexer": "ipython3",
   "version": "3.9.13"
  }
 },
 "nbformat": 4,
 "nbformat_minor": 5
}
